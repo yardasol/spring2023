{
 "cells": [
  {
   "cell_type": "code",
   "execution_count": 1,
   "id": "f8c8bdd3",
   "metadata": {},
   "outputs": [],
   "source": [
    "import numpy as np"
   ]
  },
  {
   "cell_type": "code",
   "execution_count": 2,
   "id": "1bbec1e5",
   "metadata": {},
   "outputs": [],
   "source": [
    "measured = np.array([8761,\n",
    "                     8050,\n",
    "                     7295,\n",
    "                     6790,\n",
    "                     6157,\n",
    "                     5709,\n",
    "                     5237,\n",
    "                     4779,\n",
    "                     4427,\n",
    "                     4003,\n",
    "                     3690])\n",
    "background = ([39,\n",
    "               47,\n",
    "               51,\n",
    "               26,\n",
    "               21,\n",
    "               37,\n",
    "               30,\n",
    "               62,\n",
    "               45,\n",
    "               22,\n",
    "               19])\n",
    "\n",
    "                    \n",
    "corrected = measured-background"
   ]
  },
  {
   "cell_type": "code",
   "execution_count": 4,
   "id": "12bbb6ff",
   "metadata": {},
   "outputs": [],
   "source": [
    "import scipy as sp"
   ]
  },
  {
   "cell_type": "code",
   "execution_count": null,
   "id": "20ddb80a",
   "metadata": {},
   "outputs": [],
   "source": []
  }
 ],
 "metadata": {
  "kernelspec": {
   "display_name": "Python 3 (ipykernel)",
   "language": "python",
   "name": "python3"
  },
  "language_info": {
   "codemirror_mode": {
    "name": "ipython",
    "version": 3
   },
   "file_extension": ".py",
   "mimetype": "text/x-python",
   "name": "python",
   "nbconvert_exporter": "python",
   "pygments_lexer": "ipython3",
   "version": "3.9.7"
  }
 },
 "nbformat": 4,
 "nbformat_minor": 5
}
