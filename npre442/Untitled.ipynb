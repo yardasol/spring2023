{
 "cells": [
  {
   "cell_type": "code",
   "execution_count": 1,
   "id": "9a2db159",
   "metadata": {},
   "outputs": [],
   "source": [
    "import numpy as np"
   ]
  },
  {
   "cell_type": "code",
   "execution_count": 14,
   "id": "aef2a04e",
   "metadata": {},
   "outputs": [],
   "source": [
    "measured = np.array([8761,\n",
    "                     8050,\n",
    "                     7295,\n",
    "                     6790,\n",
    "                     6157,\n",
    "                     5709,\n",
    "                     5237,\n",
    "                     4779,\n",
    "                     4427,\n",
    "                     4003,\n",
    "                     3690])\n",
    "background = ([39,\n",
    "               47,\n",
    "               51,\n",
    "               26,\n",
    "               21,\n",
    "               37,\n",
    "               30,\n",
    "               62,\n",
    "               45,\n",
    "               22,\n",
    "               19])\n",
    "x = np.arange(1,len(background)+1, 1)\n",
    "                    \n",
    "corrected = measured-background"
   ]
  },
  {
   "cell_type": "code",
   "execution_count": 15,
   "id": "a53d678b",
   "metadata": {},
   "outputs": [],
   "source": [
    "import scipy as sp\n",
    "from scipy import stats"
   ]
  },
  {
   "cell_type": "code",
   "execution_count": 24,
   "id": "191d1b98",
   "metadata": {},
   "outputs": [
    {
     "data": {
      "text/plain": [
       "LinregressResult(slope=-0.08648284521720537, intercept=9.158274816953263, rvalue=-0.9997968907274333, pvalue=1.4192931060777857e-16, stderr=0.0005811051874904631, intercept_stderr=0.003941247136466199)"
      ]
     },
     "execution_count": 24,
     "metadata": {},
     "output_type": "execute_result"
    }
   ],
   "source": [
    "stats.linregress(x, np.log(corrected))"
   ]
  },
  {
   "cell_type": "code",
   "execution_count": 20,
   "id": "c415af47",
   "metadata": {},
   "outputs": [],
   "source": [
    "import matplotlib.pyplotn as plt"
   ]
  },
  {
   "cell_type": "code",
   "execution_count": 25,
   "id": "a7c268a4",
   "metadata": {},
   "outputs": [
    {
     "data": {
      "text/plain": [
       "0.6931471805599453"
      ]
     },
     "execution_count": 25,
     "metadata": {},
     "output_type": "execute_result"
    }
   ],
   "source": [
    "np.log(2)"
   ]
  },
  {
   "cell_type": "code",
   "execution_count": 23,
   "id": "4134f864",
   "metadata": {},
   "outputs": [
    {
     "data": {
      "text/plain": [
       "[<matplotlib.lines.Line2D at 0x7f4b68ab85b0>]"
      ]
     },
     "execution_count": 23,
     "metadata": {},
     "output_type": "execute_result"
    },
    {
     "data": {
      "image/png": "[encoded data removed]",
      "text/plain": [
       "<Figure size 432x288 with 1 Axes>"
      ]
     },
     "metadata": {
      "needs_background": "light"
     },
     "output_type": "display_data"
    }
   ],
   "source": [
    "plt.plot(x, np.log(corrected))"
   ]
  },
  {
   "cell_type": "code",
   "execution_count": 26,
   "id": "01381ec9",
   "metadata": {},
   "outputs": [
    {
     "data": {
      "text/plain": [
       "8.011560693641618"
      ]
     },
     "execution_count": 26,
     "metadata": {},
     "output_type": "execute_result"
    }
   ],
   "source": [
    "0.693/0.0865"
   ]
  },
  {
   "cell_type": "code",
   "execution_count": 28,
   "id": "19c7bb25",
   "metadata": {},
   "outputs": [
    {
     "data": {
      "text/plain": [
       "-9.554294991676537"
      ]
     },
     "execution_count": 28,
     "metadata": {},
     "output_type": "execute_result"
    }
   ],
   "source": [
    "np.log(0.01)/0.482"
   ]
  },
  {
   "cell_type": "code",
   "execution_count": 30,
   "id": "0325736a",
   "metadata": {},
   "outputs": [
    {
     "data": {
      "text/plain": [
       "68.65671641791045"
      ]
     },
     "execution_count": 30,
     "metadata": {},
     "output_type": "execute_result"
    }
   ],
   "source": [
    "4.6/0.067"
   ]
  },
  {
   "cell_type": "code",
   "execution_count": 31,
   "id": "0e8f1752",
   "metadata": {},
   "outputs": [
    {
     "data": {
      "text/plain": [
       "0.73144"
      ]
     },
     "execution_count": 31,
     "metadata": {},
     "output_type": "execute_result"
    }
   ],
   "source": [
    "0.082*8.92"
   ]
  },
  {
   "cell_type": "code",
   "execution_count": 32,
   "id": "ace07208",
   "metadata": {},
   "outputs": [
    {
     "data": {
      "text/plain": [
       "0.4814273219743092"
      ]
     },
     "execution_count": 32,
     "metadata": {},
     "output_type": "execute_result"
    }
   ],
   "source": [
    "np.exp(-0.731)"
   ]
  },
  {
   "cell_type": "code",
   "execution_count": null,
   "id": "2b52e36a",
   "metadata": {},
   "outputs": [],
   "source": []
  }
 ],
 "metadata": {
  "kernelspec": {
   "display_name": "Python 3 (ipykernel)",
   "language": "python",
   "name": "python3"
  },
  "language_info": {
   "codemirror_mode": {
    "name": "ipython",
    "version": 3
   },
   "file_extension": ".py",
   "mimetype": "text/x-python",
   "name": "python",
   "nbconvert_exporter": "python",
   "pygments_lexer": "ipython3",
   "version": "3.9.7"
  }
 },
 "nbformat": 4,
 "nbformat_minor": 5
}
